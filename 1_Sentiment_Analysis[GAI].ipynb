{
  "nbformat": 4,
  "nbformat_minor": 0,
  "metadata": {
    "colab": {
      "provenance": [],
      "authorship_tag": "ABX9TyOGvx/YG6zFaH8zi1K6I6VJ",
      "include_colab_link": true
    },
    "kernelspec": {
      "name": "python3",
      "display_name": "Python 3"
    },
    "language_info": {
      "name": "python"
    }
  },
  "cells": [
    {
      "cell_type": "markdown",
      "metadata": {
        "id": "view-in-github",
        "colab_type": "text"
      },
      "source": [
        "<a href=\"https://colab.research.google.com/github/itz-rakshitha5/Generative-AI/blob/main/1_Sentiment_Analysis%5BGAI%5D.ipynb\" target=\"_parent\"><img src=\"https://colab.research.google.com/assets/colab-badge.svg\" alt=\"Open In Colab\"/></a>"
      ]
    },
    {
      "cell_type": "markdown",
      "source": [
        "# **Sentiment Analysis using Hugging Face Transformers and Gradio Integration**"
      ],
      "metadata": {
        "id": "-bn0e21t_bx4"
      }
    },
    {
      "cell_type": "markdown",
      "source": [
        "**1. Install Required Libraries**"
      ],
      "metadata": {
        "id": "duKQHSNJ-ydw"
      }
    },
    {
      "cell_type": "code",
      "execution_count": 1,
      "metadata": {
        "colab": {
          "base_uri": "https://localhost:8080/",
          "height": 0
        },
        "id": "AjwXkZZG105R",
        "outputId": "440e30f5-d6cf-4483-8993-2eb4439fc529"
      },
      "outputs": [
        {
          "output_type": "stream",
          "name": "stdout",
          "text": [
            "Requirement already satisfied: transformers in /usr/local/lib/python3.11/dist-packages (4.47.1)\n",
            "Requirement already satisfied: filelock in /usr/local/lib/python3.11/dist-packages (from transformers) (3.17.0)\n",
            "Requirement already satisfied: huggingface-hub<1.0,>=0.24.0 in /usr/local/lib/python3.11/dist-packages (from transformers) (0.27.1)\n",
            "Requirement already satisfied: numpy>=1.17 in /usr/local/lib/python3.11/dist-packages (from transformers) (1.26.4)\n",
            "Requirement already satisfied: packaging>=20.0 in /usr/local/lib/python3.11/dist-packages (from transformers) (24.2)\n",
            "Requirement already satisfied: pyyaml>=5.1 in /usr/local/lib/python3.11/dist-packages (from transformers) (6.0.2)\n",
            "Requirement already satisfied: regex!=2019.12.17 in /usr/local/lib/python3.11/dist-packages (from transformers) (2024.11.6)\n",
            "Requirement already satisfied: requests in /usr/local/lib/python3.11/dist-packages (from transformers) (2.32.3)\n",
            "Requirement already satisfied: tokenizers<0.22,>=0.21 in /usr/local/lib/python3.11/dist-packages (from transformers) (0.21.0)\n",
            "Requirement already satisfied: safetensors>=0.4.1 in /usr/local/lib/python3.11/dist-packages (from transformers) (0.5.2)\n",
            "Requirement already satisfied: tqdm>=4.27 in /usr/local/lib/python3.11/dist-packages (from transformers) (4.67.1)\n",
            "Requirement already satisfied: fsspec>=2023.5.0 in /usr/local/lib/python3.11/dist-packages (from huggingface-hub<1.0,>=0.24.0->transformers) (2024.10.0)\n",
            "Requirement already satisfied: typing-extensions>=3.7.4.3 in /usr/local/lib/python3.11/dist-packages (from huggingface-hub<1.0,>=0.24.0->transformers) (4.12.2)\n",
            "Requirement already satisfied: charset-normalizer<4,>=2 in /usr/local/lib/python3.11/dist-packages (from requests->transformers) (3.4.1)\n",
            "Requirement already satisfied: idna<4,>=2.5 in /usr/local/lib/python3.11/dist-packages (from requests->transformers) (3.10)\n",
            "Requirement already satisfied: urllib3<3,>=1.21.1 in /usr/local/lib/python3.11/dist-packages (from requests->transformers) (2.3.0)\n",
            "Requirement already satisfied: certifi>=2017.4.17 in /usr/local/lib/python3.11/dist-packages (from requests->transformers) (2024.12.14)\n"
          ]
        }
      ],
      "source": [
        "!pip install transformers"
      ]
    },
    {
      "cell_type": "markdown",
      "source": [
        "**2. Import Necessary Module**"
      ],
      "metadata": {
        "id": "4CBeuSTG-91i"
      }
    },
    {
      "cell_type": "code",
      "source": [
        "from transformers import pipeline\n"
      ],
      "metadata": {
        "id": "_9gi38Cx3oWD"
      },
      "execution_count": 2,
      "outputs": []
    },
    {
      "cell_type": "markdown",
      "source": [
        "**3. Load Text Classification Model from Hugging Face **"
      ],
      "metadata": {
        "id": "rICTu1_B_B85"
      }
    },
    {
      "cell_type": "code",
      "source": [
        "classifier = pipeline(\"text-classification\", model=\"SamLowe/roberta-base-go_emotions\")"
      ],
      "metadata": {
        "colab": {
          "base_uri": "https://localhost:8080/",
          "height": 0
        },
        "id": "2TBBY9Y13sSL",
        "outputId": "fa3cb305-6d75-4be4-9b41-4f1c289a7784"
      },
      "execution_count": 3,
      "outputs": [
        {
          "output_type": "stream",
          "name": "stderr",
          "text": [
            "/usr/local/lib/python3.11/dist-packages/huggingface_hub/utils/_auth.py:94: UserWarning: \n",
            "The secret `HF_TOKEN` does not exist in your Colab secrets.\n",
            "To authenticate with the Hugging Face Hub, create a token in your settings tab (https://huggingface.co/settings/tokens), set it as secret in your Google Colab and restart your session.\n",
            "You will be able to reuse this secret in all of your notebooks.\n",
            "Please note that authentication is recommended but still optional to access public models or datasets.\n",
            "  warnings.warn(\n",
            "Device set to use cpu\n"
          ]
        }
      ]
    },
    {
      "cell_type": "markdown",
      "source": [
        "**4. Run Text Classification Examples**"
      ],
      "metadata": {
        "id": "s6DyNC9z_HSu"
      }
    },
    {
      "cell_type": "code",
      "source": [
        "classifier(\" I like this phone! Camera quality is good\")"
      ],
      "metadata": {
        "colab": {
          "base_uri": "https://localhost:8080/",
          "height": 0
        },
        "id": "zdhj1jgI4X-D",
        "outputId": "94e92c0a-0989-4608-c164-22d3820ac7b9"
      },
      "execution_count": 4,
      "outputs": [
        {
          "output_type": "execute_result",
          "data": {
            "text/plain": [
              "[{'label': 'admiration', 'score': 0.8263788223266602}]"
            ]
          },
          "metadata": {},
          "execution_count": 4
        }
      ]
    },
    {
      "cell_type": "code",
      "source": [
        "classifier(\" I hate this phone\")"
      ],
      "metadata": {
        "colab": {
          "base_uri": "https://localhost:8080/",
          "height": 0
        },
        "id": "So4XCRaU4hbr",
        "outputId": "cdaa8f0e-d10c-41ea-d115-8279781d6e3b"
      },
      "execution_count": 5,
      "outputs": [
        {
          "output_type": "execute_result",
          "data": {
            "text/plain": [
              "[{'label': 'anger', 'score': 0.8176600337028503}]"
            ]
          },
          "metadata": {},
          "execution_count": 5
        }
      ]
    },
    {
      "cell_type": "code",
      "source": [
        "classifier(\" you look fine , But you are a crap \")"
      ],
      "metadata": {
        "colab": {
          "base_uri": "https://localhost:8080/",
          "height": 0
        },
        "id": "936i_oFA446C",
        "outputId": "a8f86da7-6ca3-473c-c8eb-a6753c6299ac"
      },
      "execution_count": 6,
      "outputs": [
        {
          "output_type": "execute_result",
          "data": {
            "text/plain": [
              "[{'label': 'annoyance', 'score': 0.5504035949707031}]"
            ]
          },
          "metadata": {},
          "execution_count": 6
        }
      ]
    },
    {
      "cell_type": "markdown",
      "source": [
        "**5. Handle Hugging Face Authentication**"
      ],
      "metadata": {
        "id": "OpOxzBu8_NVR"
      }
    },
    {
      "cell_type": "code",
      "source": [
        "!pip install gradio\n"
      ],
      "metadata": {
        "colab": {
          "base_uri": "https://localhost:8080/",
          "height": 0
        },
        "id": "ZCneA77w5KOb",
        "outputId": "bcb46262-00e9-4711-c94d-f6411e23aa08"
      },
      "execution_count": 7,
      "outputs": [
        {
          "output_type": "stream",
          "name": "stdout",
          "text": [
            "Requirement already satisfied: gradio in /usr/local/lib/python3.11/dist-packages (5.14.0)\n",
            "Requirement already satisfied: aiofiles<24.0,>=22.0 in /usr/local/lib/python3.11/dist-packages (from gradio) (23.2.1)\n",
            "Requirement already satisfied: anyio<5.0,>=3.0 in /usr/local/lib/python3.11/dist-packages (from gradio) (3.7.1)\n",
            "Requirement already satisfied: fastapi<1.0,>=0.115.2 in /usr/local/lib/python3.11/dist-packages (from gradio) (0.115.8)\n",
            "Requirement already satisfied: ffmpy in /usr/local/lib/python3.11/dist-packages (from gradio) (0.5.0)\n",
            "Requirement already satisfied: gradio-client==1.7.0 in /usr/local/lib/python3.11/dist-packages (from gradio) (1.7.0)\n",
            "Requirement already satisfied: httpx>=0.24.1 in /usr/local/lib/python3.11/dist-packages (from gradio) (0.28.1)\n",
            "Requirement already satisfied: huggingface-hub>=0.25.1 in /usr/local/lib/python3.11/dist-packages (from gradio) (0.27.1)\n",
            "Requirement already satisfied: jinja2<4.0 in /usr/local/lib/python3.11/dist-packages (from gradio) (3.1.5)\n",
            "Requirement already satisfied: markupsafe~=2.0 in /usr/local/lib/python3.11/dist-packages (from gradio) (2.1.5)\n",
            "Requirement already satisfied: numpy<3.0,>=1.0 in /usr/local/lib/python3.11/dist-packages (from gradio) (1.26.4)\n",
            "Requirement already satisfied: orjson~=3.0 in /usr/local/lib/python3.11/dist-packages (from gradio) (3.10.15)\n",
            "Requirement already satisfied: packaging in /usr/local/lib/python3.11/dist-packages (from gradio) (24.2)\n",
            "Requirement already satisfied: pandas<3.0,>=1.0 in /usr/local/lib/python3.11/dist-packages (from gradio) (2.2.2)\n",
            "Requirement already satisfied: pillow<12.0,>=8.0 in /usr/local/lib/python3.11/dist-packages (from gradio) (11.1.0)\n",
            "Requirement already satisfied: pydantic>=2.0 in /usr/local/lib/python3.11/dist-packages (from gradio) (2.10.6)\n",
            "Requirement already satisfied: pydub in /usr/local/lib/python3.11/dist-packages (from gradio) (0.25.1)\n",
            "Requirement already satisfied: python-multipart>=0.0.18 in /usr/local/lib/python3.11/dist-packages (from gradio) (0.0.20)\n",
            "Requirement already satisfied: pyyaml<7.0,>=5.0 in /usr/local/lib/python3.11/dist-packages (from gradio) (6.0.2)\n",
            "Requirement already satisfied: ruff>=0.9.3 in /usr/local/lib/python3.11/dist-packages (from gradio) (0.9.4)\n",
            "Requirement already satisfied: safehttpx<0.2.0,>=0.1.6 in /usr/local/lib/python3.11/dist-packages (from gradio) (0.1.6)\n",
            "Requirement already satisfied: semantic-version~=2.0 in /usr/local/lib/python3.11/dist-packages (from gradio) (2.10.0)\n",
            "Requirement already satisfied: starlette<1.0,>=0.40.0 in /usr/local/lib/python3.11/dist-packages (from gradio) (0.45.3)\n",
            "Requirement already satisfied: tomlkit<0.14.0,>=0.12.0 in /usr/local/lib/python3.11/dist-packages (from gradio) (0.13.2)\n",
            "Requirement already satisfied: typer<1.0,>=0.12 in /usr/local/lib/python3.11/dist-packages (from gradio) (0.15.1)\n",
            "Requirement already satisfied: typing-extensions~=4.0 in /usr/local/lib/python3.11/dist-packages (from gradio) (4.12.2)\n",
            "Requirement already satisfied: uvicorn>=0.14.0 in /usr/local/lib/python3.11/dist-packages (from gradio) (0.34.0)\n",
            "Requirement already satisfied: fsspec in /usr/local/lib/python3.11/dist-packages (from gradio-client==1.7.0->gradio) (2024.10.0)\n",
            "Requirement already satisfied: websockets<15.0,>=10.0 in /usr/local/lib/python3.11/dist-packages (from gradio-client==1.7.0->gradio) (14.2)\n",
            "Requirement already satisfied: idna>=2.8 in /usr/local/lib/python3.11/dist-packages (from anyio<5.0,>=3.0->gradio) (3.10)\n",
            "Requirement already satisfied: sniffio>=1.1 in /usr/local/lib/python3.11/dist-packages (from anyio<5.0,>=3.0->gradio) (1.3.1)\n",
            "Requirement already satisfied: certifi in /usr/local/lib/python3.11/dist-packages (from httpx>=0.24.1->gradio) (2024.12.14)\n",
            "Requirement already satisfied: httpcore==1.* in /usr/local/lib/python3.11/dist-packages (from httpx>=0.24.1->gradio) (1.0.7)\n",
            "Requirement already satisfied: h11<0.15,>=0.13 in /usr/local/lib/python3.11/dist-packages (from httpcore==1.*->httpx>=0.24.1->gradio) (0.14.0)\n",
            "Requirement already satisfied: filelock in /usr/local/lib/python3.11/dist-packages (from huggingface-hub>=0.25.1->gradio) (3.17.0)\n",
            "Requirement already satisfied: requests in /usr/local/lib/python3.11/dist-packages (from huggingface-hub>=0.25.1->gradio) (2.32.3)\n",
            "Requirement already satisfied: tqdm>=4.42.1 in /usr/local/lib/python3.11/dist-packages (from huggingface-hub>=0.25.1->gradio) (4.67.1)\n",
            "Requirement already satisfied: python-dateutil>=2.8.2 in /usr/local/lib/python3.11/dist-packages (from pandas<3.0,>=1.0->gradio) (2.8.2)\n",
            "Requirement already satisfied: pytz>=2020.1 in /usr/local/lib/python3.11/dist-packages (from pandas<3.0,>=1.0->gradio) (2024.2)\n",
            "Requirement already satisfied: tzdata>=2022.7 in /usr/local/lib/python3.11/dist-packages (from pandas<3.0,>=1.0->gradio) (2025.1)\n",
            "Requirement already satisfied: annotated-types>=0.6.0 in /usr/local/lib/python3.11/dist-packages (from pydantic>=2.0->gradio) (0.7.0)\n",
            "Requirement already satisfied: pydantic-core==2.27.2 in /usr/local/lib/python3.11/dist-packages (from pydantic>=2.0->gradio) (2.27.2)\n",
            "Requirement already satisfied: click>=8.0.0 in /usr/local/lib/python3.11/dist-packages (from typer<1.0,>=0.12->gradio) (8.1.8)\n",
            "Requirement already satisfied: shellingham>=1.3.0 in /usr/local/lib/python3.11/dist-packages (from typer<1.0,>=0.12->gradio) (1.5.4)\n",
            "Requirement already satisfied: rich>=10.11.0 in /usr/local/lib/python3.11/dist-packages (from typer<1.0,>=0.12->gradio) (13.9.4)\n",
            "Requirement already satisfied: six>=1.5 in /usr/local/lib/python3.11/dist-packages (from python-dateutil>=2.8.2->pandas<3.0,>=1.0->gradio) (1.17.0)\n",
            "Requirement already satisfied: markdown-it-py>=2.2.0 in /usr/local/lib/python3.11/dist-packages (from rich>=10.11.0->typer<1.0,>=0.12->gradio) (3.0.0)\n",
            "Requirement already satisfied: pygments<3.0.0,>=2.13.0 in /usr/local/lib/python3.11/dist-packages (from rich>=10.11.0->typer<1.0,>=0.12->gradio) (2.18.0)\n",
            "Requirement already satisfied: charset-normalizer<4,>=2 in /usr/local/lib/python3.11/dist-packages (from requests->huggingface-hub>=0.25.1->gradio) (3.4.1)\n",
            "Requirement already satisfied: urllib3<3,>=1.21.1 in /usr/local/lib/python3.11/dist-packages (from requests->huggingface-hub>=0.25.1->gradio) (2.3.0)\n",
            "Requirement already satisfied: mdurl~=0.1 in /usr/local/lib/python3.11/dist-packages (from markdown-it-py>=2.2.0->rich>=10.11.0->typer<1.0,>=0.12->gradio) (0.1.2)\n"
          ]
        }
      ]
    },
    {
      "cell_type": "code",
      "source": [
        "import gradio as gr"
      ],
      "metadata": {
        "id": "eLtBzIQC5xCz"
      },
      "execution_count": 8,
      "outputs": []
    },
    {
      "cell_type": "code",
      "source": [
        "from transformers import pipeline"
      ],
      "metadata": {
        "id": "UL-bOw9a6ivD"
      },
      "execution_count": 9,
      "outputs": []
    },
    {
      "cell_type": "markdown",
      "source": [
        "**6. Verify Device Setup**"
      ],
      "metadata": {
        "id": "i1Aj4NAD_Sfj"
      }
    },
    {
      "cell_type": "code",
      "source": [
        "classifier = pipeline(\"text-classification\", model=\"SamLowe/roberta-base-go_emotions\")"
      ],
      "metadata": {
        "colab": {
          "base_uri": "https://localhost:8080/",
          "height": 0
        },
        "id": "0uCj8x486nTi",
        "outputId": "d418b0a9-967a-4a86-f705-099cdb955013"
      },
      "execution_count": 10,
      "outputs": [
        {
          "output_type": "stream",
          "name": "stderr",
          "text": [
            "Device set to use cpu\n"
          ]
        }
      ]
    },
    {
      "cell_type": "markdown",
      "source": [
        "**7. Install Gradio for UI Integration**"
      ],
      "metadata": {
        "id": "zeqlVipQ_Ujj"
      }
    },
    {
      "cell_type": "code",
      "source": [
        "def predict_sentiment(text):\n",
        "  return classifier(text)[0]\n",
        "gr.Interface(fn = predict_sentiment, inputs = \"text\", outputs = \"text\").launch()"
      ],
      "metadata": {
        "colab": {
          "base_uri": "https://localhost:8080/",
          "height": 650
        },
        "id": "T74jPfwQ64aT",
        "outputId": "8b41efa3-0a70-46bd-e468-01bd9af1b7de"
      },
      "execution_count": 13,
      "outputs": [
        {
          "output_type": "stream",
          "name": "stdout",
          "text": [
            "Running Gradio in a Colab notebook requires sharing enabled. Automatically setting `share=True` (you can turn this off by setting `share=False` in `launch()` explicitly).\n",
            "\n",
            "Colab notebook detected. To show errors in colab notebook, set debug=True in launch()\n",
            "* Running on public URL: https://592d3ef7b105e14c40.gradio.live\n",
            "\n",
            "This share link expires in 72 hours. For free permanent hosting and GPU upgrades, run `gradio deploy` from the terminal in the working directory to deploy to Hugging Face Spaces (https://huggingface.co/spaces)\n"
          ]
        },
        {
          "output_type": "display_data",
          "data": {
            "text/plain": [
              "<IPython.core.display.HTML object>"
            ],
            "text/html": [
              "<div><iframe src=\"https://592d3ef7b105e14c40.gradio.live\" width=\"100%\" height=\"500\" allow=\"autoplay; camera; microphone; clipboard-read; clipboard-write;\" frameborder=\"0\" allowfullscreen></iframe></div>"
            ]
          },
          "metadata": {}
        },
        {
          "output_type": "execute_result",
          "data": {
            "text/plain": []
          },
          "metadata": {},
          "execution_count": 13
        }
      ]
    },
    {
      "cell_type": "markdown",
      "source": [
        "![Screenshot 2025-02-02 195202.png](data:image/png;base64,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)"
      ],
      "metadata": {
        "id": "V9uqv3aQDJf4"
      }
    }
  ]
}