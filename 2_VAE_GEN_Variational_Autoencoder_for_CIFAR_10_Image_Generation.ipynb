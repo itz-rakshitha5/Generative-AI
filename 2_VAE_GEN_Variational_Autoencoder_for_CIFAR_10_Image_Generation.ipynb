{
  "cells": [
    {
      "cell_type": "markdown",
      "metadata": {
        "id": "view-in-github",
        "colab_type": "text"
      },
      "source": [
        "<a href=\"https://colab.research.google.com/github/itz-rakshitha5/Generative-AI/blob/main/2_VAE_GEN_Variational_Autoencoder_for_CIFAR_10_Image_Generation.ipynb\" target=\"_parent\"><img src=\"https://colab.research.google.com/assets/colab-badge.svg\" alt=\"Open In Colab\"/></a>"
      ]
    },
    {
      "cell_type": "markdown",
      "source": [
        "# **Developing a Variational AutoEncoder to Generate New Images From CIFAR-10 Dataset**"
      ],
      "metadata": {
        "id": "8nuhm8NcxCMy"
      }
    },
    {
      "cell_type": "markdown",
      "source": [
        "**Step 1: Import Required Libraries**"
      ],
      "metadata": {
        "id": "fHtF-NXqxl61"
      }
    },
    {
      "cell_type": "code",
      "execution_count": 1,
      "metadata": {
        "id": "aDzAtEHV4HIa"
      },
      "outputs": [],
      "source": [
        "import numpy as np\n",
        "import tensorflow as tf\n",
        "import keras\n",
        "from tensorflow.keras import layers, Model\n",
        "from tensorflow.keras import datasets\n",
        "\n",
        "from tensorflow.keras.losses import MeanSquaredError, KLDivergence, binary_crossentropy\n",
        "from tensorflow.keras.optimizers import Adam\n",
        "from tensorflow.keras.callbacks import ModelCheckpoint, EarlyStopping\n",
        "import matplotlib.pyplot as plt\n",
        "import numpy as np\n",
        "from numpy import cov, trace, iscomplexobj, asarray\n",
        "from numpy.random import randn\n",
        "from skimage.transform import resize\n",
        "from scipy.linalg import sqrtm"
      ]
    },
    {
      "cell_type": "markdown",
      "source": [
        "**Step 2: Load and Preprocess CIFAR-10 Dataset**"
      ],
      "metadata": {
        "id": "PrWdX-ZExz3W"
      }
    },
    {
      "cell_type": "code",
      "execution_count": 2,
      "metadata": {
        "id": "wFHrx4y64vK0",
        "colab": {
          "base_uri": "https://localhost:8080/"
        },
        "outputId": "995f9161-8a1b-462a-fd68-49c144f5aa8b"
      },
      "outputs": [
        {
          "output_type": "stream",
          "name": "stdout",
          "text": [
            "Downloading data from https://www.cs.toronto.edu/~kriz/cifar-10-python.tar.gz\n",
            "\u001b[1m170498071/170498071\u001b[0m \u001b[32m━━━━━━━━━━━━━━━━━━━━\u001b[0m\u001b[37m\u001b[0m \u001b[1m4s\u001b[0m 0us/step\n"
          ]
        }
      ],
      "source": [
        "(x_train, y_train), (x_test, y_test) = datasets.cifar10.load_data()"
      ]
    },
    {
      "cell_type": "code",
      "execution_count": 3,
      "metadata": {
        "id": "HZ458UWF4u28"
      },
      "outputs": [],
      "source": [
        "x_train = x_train.astype('float32') / 255.\n",
        "x_test = x_test.astype('float32') / 255."
      ]
    },
    {
      "cell_type": "code",
      "execution_count": 4,
      "metadata": {
        "id": "nfeF55UW4uOU"
      },
      "outputs": [],
      "source": [
        "latent_dim = 1024\n",
        "image_shape = x_train[0].shape\n",
        "mse_loss = MeanSquaredError()\n",
        "kl_loss = KLDivergence()"
      ]
    },
    {
      "cell_type": "markdown",
      "source": [
        "**Step 3: Define the Variational Autoencoder (VAE) Model & Define Custom Training Logic**"
      ],
      "metadata": {
        "id": "lZOR9-R4zn69"
      }
    },
    {
      "cell_type": "code",
      "execution_count": 5,
      "metadata": {
        "id": "9Fh87-t14tL9"
      },
      "outputs": [],
      "source": [
        "class VAE(keras.Model):\n",
        "    def __init__(self, latent_dim, image_shape, beta):\n",
        "        super(VAE, self).__init__()\n",
        "        self.latent_dim = latent_dim\n",
        "        self.image_shape = image_shape\n",
        "        self.beta = beta\n",
        "\n",
        "        # Encoder\n",
        "        self.encoder = tf.keras.Sequential([\n",
        "            layers.Input(shape=image_shape, name=\"Encoder_Input_Layer\"),\n",
        "            layers.Conv2D(32, 3, strides=2, activation='relu', padding='same', name=\"Encoder_Conv2D_2\"),\n",
        "            layers.Conv2D(64, 3, strides=2, activation='relu', padding='same', name=\"Encoder_Conv2D_4\"),\n",
        "            layers.Conv2D(128, 3, strides=2, activation='relu', padding='same', name=\"Encoder_Conv2D_6\"),\n",
        "            layers.Flatten(name=\"Encoder_Flatten\"),\n",
        "        ])\n",
        "\n",
        "        self.z_mean = layers.Dense(latent_dim, name=\"z_mean\")\n",
        "        self.z_log_var = layers.Dense(latent_dim, name=\"z_log_var\")\n",
        "\n",
        "        # Decoder\n",
        "        self.decoder = tf.keras.Sequential([\n",
        "            layers.InputLayer(input_shape=(latent_dim,)),\n",
        "            layers.Dense(8*8*64, activation='relu'),\n",
        "            layers.Reshape((8, 8, 64)),\n",
        "            layers.Conv2DTranspose(64, kernel_size=3, strides=2, padding='same', activation='relu'),\n",
        "            layers.Conv2DTranspose(32, kernel_size=3, strides=2, padding='same', activation='relu'),\n",
        "            layers.Conv2DTranspose(3, kernel_size=3, strides=1, padding='same', activation='sigmoid'),\n",
        "        ])\n",
        "\n",
        "        self.total_loss_tracker = keras.metrics.Mean(name=\"total_loss\")\n",
        "        self.reconstruction_loss_tracker = keras.metrics.Mean(name=\"reconstruction_loss\")\n",
        "        self.kl_loss_tracker = keras.metrics.Mean(name=\"kl_loss\")\n",
        "\n",
        "    def encode(self, data):\n",
        "        x = self.encoder(data)\n",
        "        z_mean, z_log_var = self.z_mean(x), self.z_log_var(x)\n",
        "        return z_mean, z_log_var\n",
        "\n",
        "    def reparameterization(self, z_mean, z_log_var):\n",
        "        batch = tf.shape(z_mean)[0]\n",
        "        dim = tf.shape(z_mean)[1]\n",
        "        epsilon = tf.keras.backend.random_normal(shape=(batch, dim))\n",
        "        z = z_mean + tf.exp(0.5 * z_log_var) * epsilon\n",
        "        return z\n",
        "\n",
        "    def call(self, x):\n",
        "        mean, log_var = self.encode(x)\n",
        "        z = self.reparameterization(mean, log_var)\n",
        "        x_recon = self.decoder(z)\n",
        "        return x_recon, mean, log_var\n",
        "\n",
        "    def decode(self, data):\n",
        "        return self.decoder(data)\n",
        "\n",
        "    @property\n",
        "    def metrics(self):\n",
        "        return [self.total_loss_tracker, self.reconstruction_loss_tracker, self.kl_loss_tracker]\n",
        "\n",
        "    def recon_loss(self, data, reconstruction):\n",
        "        return tf.reduce_mean(binary_crossentropy(data, reconstruction))\n",
        "\n",
        "    def kl_divergence(self, z_logvar, z_mu):\n",
        "        kl = -0.5 * tf.reduce_mean(1 + z_logvar - z_mu**2 - tf.math.exp(z_logvar))\n",
        "        return self.beta * kl\n",
        "\n",
        "    def train_step(self, data):\n",
        "        with tf.GradientTape() as tape:\n",
        "            z_mean, z_log_var = self.encode(data)\n",
        "            z = self.reparameterization(z_mean, z_log_var)\n",
        "            reconstruction = self.decode(z)\n",
        "\n",
        "            reconstruction_loss = self.recon_loss(data, reconstruction)\n",
        "            kl_loss = self.kl_divergence(z_log_var, z_mean)\n",
        "            total_loss = reconstruction_loss + kl_loss\n",
        "\n",
        "        # ✅ Moved inside train_step\n",
        "        grads = tape.gradient(total_loss, self.trainable_weights)\n",
        "        self.optimizer.apply_gradients(zip(grads, self.trainable_weights))\n",
        "\n",
        "        self.total_loss_tracker.update_state(total_loss)\n",
        "        self.reconstruction_loss_tracker.update_state(reconstruction_loss)\n",
        "        self.kl_loss_tracker.update_state(kl_loss)\n",
        "\n",
        "        return {\n",
        "            \"loss\": self.total_loss_tracker.result(),\n",
        "            \"reconstruction_loss\": self.reconstruction_loss_tracker.result(),\n",
        "            \"kl_loss\": self.kl_loss_tracker.result(),\n",
        "        }\n"
      ]
    },
    {
      "cell_type": "markdown",
      "source": [
        "**Step 4: Train the Model**"
      ],
      "metadata": {
        "id": "qFjSlN7B1yo7"
      }
    },
    {
      "cell_type": "code",
      "execution_count": 6,
      "metadata": {
        "colab": {
          "base_uri": "https://localhost:8080/"
        },
        "id": "2QWgN87SKond",
        "outputId": "0d87142c-bf71-4c6e-e50d-a2c0e1cb23a4"
      },
      "outputs": [
        {
          "output_type": "stream",
          "name": "stderr",
          "text": [
            "/usr/local/lib/python3.11/dist-packages/keras/src/layers/core/input_layer.py:27: UserWarning: Argument `input_shape` is deprecated. Use `shape` instead.\n",
            "  warnings.warn(\n"
          ]
        }
      ],
      "source": [
        "vae = VAE(latent_dim, image_shape, 0.3)"
      ]
    },
    {
      "cell_type": "code",
      "execution_count": 7,
      "metadata": {
        "colab": {
          "base_uri": "https://localhost:8080/"
        },
        "id": "LSHHU1B2CKZ1",
        "outputId": "78b8ff8f-2c5e-4643-f30d-07a42f4a4fad"
      },
      "outputs": [
        {
          "output_type": "stream",
          "name": "stdout",
          "text": [
            "Epoch 1/50\n",
            "\u001b[1m98/98\u001b[0m \u001b[32m━━━━━━━━━━━━━━━━━━━━\u001b[0m\u001b[37m\u001b[0m \u001b[1m20s\u001b[0m 92ms/step - kl_loss: 1.3506e-04 - loss: 0.6921 - reconstruction_loss: 0.6919\n",
            "Epoch 2/50\n",
            "\u001b[1m98/98\u001b[0m \u001b[32m━━━━━━━━━━━━━━━━━━━━\u001b[0m\u001b[37m\u001b[0m \u001b[1m7s\u001b[0m 32ms/step - kl_loss: 0.0044 - loss: 0.6601 - reconstruction_loss: 0.6557\n",
            "Epoch 3/50\n",
            "\u001b[1m98/98\u001b[0m \u001b[32m━━━━━━━━━━━━━━━━━━━━\u001b[0m\u001b[37m\u001b[0m \u001b[1m3s\u001b[0m 31ms/step - kl_loss: 0.0094 - loss: 0.6223 - reconstruction_loss: 0.6129\n",
            "Epoch 4/50\n",
            "\u001b[1m98/98\u001b[0m \u001b[32m━━━━━━━━━━━━━━━━━━━━\u001b[0m\u001b[37m\u001b[0m \u001b[1m5s\u001b[0m 31ms/step - kl_loss: 0.0110 - loss: 0.6187 - reconstruction_loss: 0.6077\n",
            "Epoch 5/50\n",
            "\u001b[1m98/98\u001b[0m \u001b[32m━━━━━━━━━━━━━━━━━━━━\u001b[0m\u001b[37m\u001b[0m \u001b[1m3s\u001b[0m 31ms/step - kl_loss: 0.0120 - loss: 0.6159 - reconstruction_loss: 0.6039\n",
            "Epoch 6/50\n",
            "\u001b[1m98/98\u001b[0m \u001b[32m━━━━━━━━━━━━━━━━━━━━\u001b[0m\u001b[37m\u001b[0m \u001b[1m3s\u001b[0m 31ms/step - kl_loss: 0.0130 - loss: 0.6124 - reconstruction_loss: 0.5993\n",
            "Epoch 7/50\n",
            "\u001b[1m98/98\u001b[0m \u001b[32m━━━━━━━━━━━━━━━━━━━━\u001b[0m\u001b[37m\u001b[0m \u001b[1m5s\u001b[0m 32ms/step - kl_loss: 0.0134 - loss: 0.6116 - reconstruction_loss: 0.5982\n",
            "Epoch 8/50\n",
            "\u001b[1m98/98\u001b[0m \u001b[32m━━━━━━━━━━━━━━━━━━━━\u001b[0m\u001b[37m\u001b[0m \u001b[1m3s\u001b[0m 31ms/step - kl_loss: 0.0137 - loss: 0.6108 - reconstruction_loss: 0.5971\n",
            "Epoch 9/50\n",
            "\u001b[1m98/98\u001b[0m \u001b[32m━━━━━━━━━━━━━━━━━━━━\u001b[0m\u001b[37m\u001b[0m \u001b[1m3s\u001b[0m 31ms/step - kl_loss: 0.0140 - loss: 0.6098 - reconstruction_loss: 0.5958\n",
            "Epoch 10/50\n",
            "\u001b[1m98/98\u001b[0m \u001b[32m━━━━━━━━━━━━━━━━━━━━\u001b[0m\u001b[37m\u001b[0m \u001b[1m3s\u001b[0m 31ms/step - kl_loss: 0.0142 - loss: 0.6090 - reconstruction_loss: 0.5948\n",
            "Epoch 11/50\n",
            "\u001b[1m98/98\u001b[0m \u001b[32m━━━━━━━━━━━━━━━━━━━━\u001b[0m\u001b[37m\u001b[0m \u001b[1m3s\u001b[0m 31ms/step - kl_loss: 0.0143 - loss: 0.6085 - reconstruction_loss: 0.5942\n",
            "Epoch 12/50\n",
            "\u001b[1m98/98\u001b[0m \u001b[32m━━━━━━━━━━━━━━━━━━━━\u001b[0m\u001b[37m\u001b[0m \u001b[1m5s\u001b[0m 32ms/step - kl_loss: 0.0143 - loss: 0.6068 - reconstruction_loss: 0.5925\n",
            "Epoch 13/50\n",
            "\u001b[1m98/98\u001b[0m \u001b[32m━━━━━━━━━━━━━━━━━━━━\u001b[0m\u001b[37m\u001b[0m \u001b[1m3s\u001b[0m 32ms/step - kl_loss: 0.0140 - loss: 0.6051 - reconstruction_loss: 0.5911\n",
            "Epoch 14/50\n",
            "\u001b[1m98/98\u001b[0m \u001b[32m━━━━━━━━━━━━━━━━━━━━\u001b[0m\u001b[37m\u001b[0m \u001b[1m3s\u001b[0m 31ms/step - kl_loss: 0.0136 - loss: 0.6026 - reconstruction_loss: 0.5890\n",
            "Epoch 15/50\n",
            "\u001b[1m98/98\u001b[0m \u001b[32m━━━━━━━━━━━━━━━━━━━━\u001b[0m\u001b[37m\u001b[0m \u001b[1m5s\u001b[0m 32ms/step - kl_loss: 0.0132 - loss: 0.6010 - reconstruction_loss: 0.5878\n",
            "Epoch 16/50\n",
            "\u001b[1m98/98\u001b[0m \u001b[32m━━━━━━━━━━━━━━━━━━━━\u001b[0m\u001b[37m\u001b[0m \u001b[1m5s\u001b[0m 32ms/step - kl_loss: 0.0130 - loss: 0.5993 - reconstruction_loss: 0.5863\n",
            "Epoch 17/50\n",
            "\u001b[1m98/98\u001b[0m \u001b[32m━━━━━━━━━━━━━━━━━━━━\u001b[0m\u001b[37m\u001b[0m \u001b[1m5s\u001b[0m 32ms/step - kl_loss: 0.0128 - loss: 0.5978 - reconstruction_loss: 0.5851\n",
            "Epoch 18/50\n",
            "\u001b[1m98/98\u001b[0m \u001b[32m━━━━━━━━━━━━━━━━━━━━\u001b[0m\u001b[37m\u001b[0m \u001b[1m3s\u001b[0m 35ms/step - kl_loss: 0.0127 - loss: 0.5975 - reconstruction_loss: 0.5847\n",
            "Epoch 19/50\n",
            "\u001b[1m98/98\u001b[0m \u001b[32m━━━━━━━━━━━━━━━━━━━━\u001b[0m\u001b[37m\u001b[0m \u001b[1m5s\u001b[0m 37ms/step - kl_loss: 0.0127 - loss: 0.5967 - reconstruction_loss: 0.5839\n",
            "Epoch 20/50\n",
            "\u001b[1m98/98\u001b[0m \u001b[32m━━━━━━━━━━━━━━━━━━━━\u001b[0m\u001b[37m\u001b[0m \u001b[1m5s\u001b[0m 35ms/step - kl_loss: 0.0128 - loss: 0.5964 - reconstruction_loss: 0.5836\n",
            "Epoch 21/50\n",
            "\u001b[1m98/98\u001b[0m \u001b[32m━━━━━━━━━━━━━━━━━━━━\u001b[0m\u001b[37m\u001b[0m \u001b[1m3s\u001b[0m 33ms/step - kl_loss: 0.0127 - loss: 0.5962 - reconstruction_loss: 0.5835\n",
            "Epoch 22/50\n",
            "\u001b[1m98/98\u001b[0m \u001b[32m━━━━━━━━━━━━━━━━━━━━\u001b[0m\u001b[37m\u001b[0m \u001b[1m3s\u001b[0m 32ms/step - kl_loss: 0.0127 - loss: 0.5961 - reconstruction_loss: 0.5834\n",
            "Epoch 23/50\n",
            "\u001b[1m98/98\u001b[0m \u001b[32m━━━━━━━━━━━━━━━━━━━━\u001b[0m\u001b[37m\u001b[0m \u001b[1m5s\u001b[0m 32ms/step - kl_loss: 0.0128 - loss: 0.5955 - reconstruction_loss: 0.5827\n",
            "Epoch 24/50\n",
            "\u001b[1m98/98\u001b[0m \u001b[32m━━━━━━━━━━━━━━━━━━━━\u001b[0m\u001b[37m\u001b[0m \u001b[1m3s\u001b[0m 31ms/step - kl_loss: 0.0128 - loss: 0.5952 - reconstruction_loss: 0.5824\n",
            "Epoch 25/50\n",
            "\u001b[1m98/98\u001b[0m \u001b[32m━━━━━━━━━━━━━━━━━━━━\u001b[0m\u001b[37m\u001b[0m \u001b[1m5s\u001b[0m 32ms/step - kl_loss: 0.0129 - loss: 0.5949 - reconstruction_loss: 0.5820\n",
            "Epoch 26/50\n",
            "\u001b[1m98/98\u001b[0m \u001b[32m━━━━━━━━━━━━━━━━━━━━\u001b[0m\u001b[37m\u001b[0m \u001b[1m3s\u001b[0m 32ms/step - kl_loss: 0.0129 - loss: 0.5947 - reconstruction_loss: 0.5818\n",
            "Epoch 27/50\n",
            "\u001b[1m98/98\u001b[0m \u001b[32m━━━━━━━━━━━━━━━━━━━━\u001b[0m\u001b[37m\u001b[0m \u001b[1m3s\u001b[0m 32ms/step - kl_loss: 0.0130 - loss: 0.5941 - reconstruction_loss: 0.5812\n",
            "Epoch 28/50\n",
            "\u001b[1m98/98\u001b[0m \u001b[32m━━━━━━━━━━━━━━━━━━━━\u001b[0m\u001b[37m\u001b[0m \u001b[1m3s\u001b[0m 33ms/step - kl_loss: 0.0130 - loss: 0.5943 - reconstruction_loss: 0.5813\n",
            "Epoch 29/50\n",
            "\u001b[1m98/98\u001b[0m \u001b[32m━━━━━━━━━━━━━━━━━━━━\u001b[0m\u001b[37m\u001b[0m \u001b[1m3s\u001b[0m 32ms/step - kl_loss: 0.0131 - loss: 0.5937 - reconstruction_loss: 0.5807\n",
            "Epoch 30/50\n",
            "\u001b[1m98/98\u001b[0m \u001b[32m━━━━━━━━━━━━━━━━━━━━\u001b[0m\u001b[37m\u001b[0m \u001b[1m3s\u001b[0m 32ms/step - kl_loss: 0.0130 - loss: 0.5936 - reconstruction_loss: 0.5805\n",
            "Epoch 31/50\n",
            "\u001b[1m98/98\u001b[0m \u001b[32m━━━━━━━━━━━━━━━━━━━━\u001b[0m\u001b[37m\u001b[0m \u001b[1m3s\u001b[0m 32ms/step - kl_loss: 0.0131 - loss: 0.5936 - reconstruction_loss: 0.5805\n",
            "Epoch 32/50\n",
            "\u001b[1m98/98\u001b[0m \u001b[32m━━━━━━━━━━━━━━━━━━━━\u001b[0m\u001b[37m\u001b[0m \u001b[1m5s\u001b[0m 34ms/step - kl_loss: 0.0131 - loss: 0.5935 - reconstruction_loss: 0.5804\n",
            "Epoch 33/50\n",
            "\u001b[1m98/98\u001b[0m \u001b[32m━━━━━━━━━━━━━━━━━━━━\u001b[0m\u001b[37m\u001b[0m \u001b[1m3s\u001b[0m 32ms/step - kl_loss: 0.0131 - loss: 0.5936 - reconstruction_loss: 0.5805\n",
            "Epoch 34/50\n",
            "\u001b[1m98/98\u001b[0m \u001b[32m━━━━━━━━━━━━━━━━━━━━\u001b[0m\u001b[37m\u001b[0m \u001b[1m5s\u001b[0m 33ms/step - kl_loss: 0.0132 - loss: 0.5930 - reconstruction_loss: 0.5798\n",
            "Epoch 35/50\n",
            "\u001b[1m98/98\u001b[0m \u001b[32m━━━━━━━━━━━━━━━━━━━━\u001b[0m\u001b[37m\u001b[0m \u001b[1m5s\u001b[0m 33ms/step - kl_loss: 0.0132 - loss: 0.5930 - reconstruction_loss: 0.5798\n",
            "Epoch 36/50\n",
            "\u001b[1m98/98\u001b[0m \u001b[32m━━━━━━━━━━━━━━━━━━━━\u001b[0m\u001b[37m\u001b[0m \u001b[1m3s\u001b[0m 32ms/step - kl_loss: 0.0132 - loss: 0.5931 - reconstruction_loss: 0.5800\n",
            "Epoch 37/50\n",
            "\u001b[1m98/98\u001b[0m \u001b[32m━━━━━━━━━━━━━━━━━━━━\u001b[0m\u001b[37m\u001b[0m \u001b[1m3s\u001b[0m 33ms/step - kl_loss: 0.0132 - loss: 0.5932 - reconstruction_loss: 0.5800\n",
            "Epoch 38/50\n",
            "\u001b[1m98/98\u001b[0m \u001b[32m━━━━━━━━━━━━━━━━━━━━\u001b[0m\u001b[37m\u001b[0m \u001b[1m5s\u001b[0m 33ms/step - kl_loss: 0.0132 - loss: 0.5929 - reconstruction_loss: 0.5797\n",
            "Epoch 39/50\n",
            "\u001b[1m98/98\u001b[0m \u001b[32m━━━━━━━━━━━━━━━━━━━━\u001b[0m\u001b[37m\u001b[0m \u001b[1m5s\u001b[0m 33ms/step - kl_loss: 0.0132 - loss: 0.5931 - reconstruction_loss: 0.5799\n",
            "Epoch 40/50\n",
            "\u001b[1m98/98\u001b[0m \u001b[32m━━━━━━━━━━━━━━━━━━━━\u001b[0m\u001b[37m\u001b[0m \u001b[1m5s\u001b[0m 34ms/step - kl_loss: 0.0132 - loss: 0.5930 - reconstruction_loss: 0.5798\n",
            "Epoch 41/50\n",
            "\u001b[1m98/98\u001b[0m \u001b[32m━━━━━━━━━━━━━━━━━━━━\u001b[0m\u001b[37m\u001b[0m \u001b[1m5s\u001b[0m 33ms/step - kl_loss: 0.0133 - loss: 0.5923 - reconstruction_loss: 0.5790\n",
            "Epoch 42/50\n",
            "\u001b[1m98/98\u001b[0m \u001b[32m━━━━━━━━━━━━━━━━━━━━\u001b[0m\u001b[37m\u001b[0m \u001b[1m3s\u001b[0m 33ms/step - kl_loss: 0.0133 - loss: 0.5927 - reconstruction_loss: 0.5794\n",
            "Epoch 43/50\n",
            "\u001b[1m98/98\u001b[0m \u001b[32m━━━━━━━━━━━━━━━━━━━━\u001b[0m\u001b[37m\u001b[0m \u001b[1m5s\u001b[0m 33ms/step - kl_loss: 0.0133 - loss: 0.5930 - reconstruction_loss: 0.5797\n",
            "Epoch 44/50\n",
            "\u001b[1m98/98\u001b[0m \u001b[32m━━━━━━━━━━━━━━━━━━━━\u001b[0m\u001b[37m\u001b[0m \u001b[1m3s\u001b[0m 33ms/step - kl_loss: 0.0134 - loss: 0.5921 - reconstruction_loss: 0.5787\n",
            "Epoch 45/50\n",
            "\u001b[1m98/98\u001b[0m \u001b[32m━━━━━━━━━━━━━━━━━━━━\u001b[0m\u001b[37m\u001b[0m \u001b[1m5s\u001b[0m 34ms/step - kl_loss: 0.0133 - loss: 0.5927 - reconstruction_loss: 0.5794\n",
            "Epoch 46/50\n",
            "\u001b[1m98/98\u001b[0m \u001b[32m━━━━━━━━━━━━━━━━━━━━\u001b[0m\u001b[37m\u001b[0m \u001b[1m5s\u001b[0m 33ms/step - kl_loss: 0.0133 - loss: 0.5922 - reconstruction_loss: 0.5788\n",
            "Epoch 47/50\n",
            "\u001b[1m98/98\u001b[0m \u001b[32m━━━━━━━━━━━━━━━━━━━━\u001b[0m\u001b[37m\u001b[0m \u001b[1m3s\u001b[0m 33ms/step - kl_loss: 0.0134 - loss: 0.5927 - reconstruction_loss: 0.5793\n",
            "Epoch 48/50\n",
            "\u001b[1m98/98\u001b[0m \u001b[32m━━━━━━━━━━━━━━━━━━━━\u001b[0m\u001b[37m\u001b[0m \u001b[1m5s\u001b[0m 35ms/step - kl_loss: 0.0134 - loss: 0.5917 - reconstruction_loss: 0.5782\n",
            "Epoch 49/50\n",
            "\u001b[1m98/98\u001b[0m \u001b[32m━━━━━━━━━━━━━━━━━━━━\u001b[0m\u001b[37m\u001b[0m \u001b[1m5s\u001b[0m 34ms/step - kl_loss: 0.0134 - loss: 0.5921 - reconstruction_loss: 0.5787\n",
            "Epoch 50/50\n",
            "\u001b[1m98/98\u001b[0m \u001b[32m━━━━━━━━━━━━━━━━━━━━\u001b[0m\u001b[37m\u001b[0m \u001b[1m5s\u001b[0m 34ms/step - kl_loss: 0.0134 - loss: 0.5923 - reconstruction_loss: 0.5788\n",
            "Restoring model weights from the end of the best epoch: 50.\n"
          ]
        }
      ],
      "source": [
        "vae.compile(optimizer=keras.optimizers.Adam(learning_rate=0.0005))  # Lower LR for stable training\n",
        "early_stopping = EarlyStopping(monitor='loss', patience=15, restore_best_weights=True, verbose=1)\n",
        "history = vae.fit(x_train, epochs=50, batch_size=512, callbacks=[early_stopping])\n"
      ]
    },
    {
      "cell_type": "markdown",
      "source": [
        "**Step 5: Generate New Images from Latent Space**"
      ],
      "metadata": {
        "id": "TE4Sc4t-xAnv"
      }
    },
    {
      "cell_type": "code",
      "execution_count": 8,
      "metadata": {
        "colab": {
          "base_uri": "https://localhost:8080/"
        },
        "id": "LWDTlFIqLZac",
        "outputId": "f028f5a9-dcf8-43ae-8db5-334e80f824ed"
      },
      "outputs": [
        {
          "output_type": "stream",
          "name": "stdout",
          "text": [
            "\u001b[1m1/1\u001b[0m \u001b[32m━━━━━━━━━━━━━━━━━━━━\u001b[0m\u001b[37m\u001b[0m \u001b[1m1s\u001b[0m 518ms/step\n"
          ]
        }
      ],
      "source": [
        "def generate_images_from_latent_vectors(vae, num_images_to_generate):\n",
        "  random_latent_vectors = np.random.randn(num_images_to_generate, vae.latent_dim)\n",
        "\n",
        "  generated_images = vae.decoder.predict(random_latent_vectors)\n",
        "\n",
        "  return generated_images\n",
        "generated_images = generate_images_from_latent_vectors(vae, 20)"
      ]
    },
    {
      "cell_type": "markdown",
      "source": [
        "**Step 6: Visualize Real and Generated Images**"
      ],
      "metadata": {
        "id": "fRg9XO8J2FXv"
      }
    },
    {
      "cell_type": "code",
      "execution_count": 9,
      "metadata": {
        "colab": {
          "base_uri": "https://localhost:8080/",
          "height": 671
        },
        "id": "tN-5jf1xOT1k",
        "outputId": "45b9a0d8-bdb9-43d8-e607-5906f91a52e1"
      },
      "outputs": [
        {
          "output_type": "display_data",
          "data": {
            "text/plain": [
              "<Figure size 2000x1000 with 10 Axes>"
            ],
            "image/png": "[encoded data removed]"
          },
          "metadata": {}
        }
      ],
      "source": [
        "def plot_real_and_generated_images(real_images, generated_images, num_images_to_generate):\n",
        "    plt.figure(figsize=(20,10))  # Indented this line by 4 spaces\n",
        "    for i in range(num_images_to_generate):\n",
        "        plt.subplot(2, num_images_to_generate, i+1)\n",
        "        plt.imshow(real_images[i+10])\n",
        "        plt.title(\"Real Image\")\n",
        "        plt.axis('off')\n",
        "\n",
        "    for i in range(num_images_to_generate):\n",
        "        plt.subplot(2, num_images_to_generate, num_images_to_generate+i+1)\n",
        "        plt.imshow(generated_images[i])\n",
        "        plt.title(\"Generated Image\")\n",
        "        plt.axis('off')\n",
        "    plt.tight_layout()\n",
        "    plt.show()\n",
        "\n",
        "plot_real_and_generated_images(x_test, generated_images, 5)"
      ]
    },
    {
      "cell_type": "code",
      "source": [
        "kl_loss = history.history['kl_loss']\n",
        "reconstruction_loss = history.history['reconstruction_loss']\n",
        "total_loss = history.history['loss'] # Changed 'total_loss' to 'loss'\n",
        "\n",
        "epochs = range(1, len(kl_loss) + 1)\n",
        "\n",
        "plt.figure(figsize=(5, 3))\n",
        "plt.plot(epochs, kl_loss, 'b', label='KL Loss')\n",
        "plt.plot(epochs, reconstruction_loss, 'r', label='Reconstruction Loss')\n",
        "plt.plot(epochs, total_loss, 'g', label='Total Loss')\n",
        "plt.title('Training Losses')\n",
        "plt.xlabel('Epochs')\n",
        "plt.ylabel('Loss')\n",
        "plt.legend()\n",
        "plt.show()"
      ],
      "metadata": {
        "id": "eewiGbk4L8OL"
      },
      "execution_count": 9,
      "outputs": []
    }
  ],
  "metadata": {
    "accelerator": "GPU",
    "colab": {
      "gpuType": "T4",
      "provenance": [],
      "authorship_tag": "ABX9TyP6vtzZXSIVdFYjTwdjDsxs",
      "include_colab_link": true
    },
    "kernelspec": {
      "display_name": "Python 3",
      "name": "python3"
    },
    "language_info": {
      "name": "python"
    }
  },
  "nbformat": 4,
  "nbformat_minor": 0
}